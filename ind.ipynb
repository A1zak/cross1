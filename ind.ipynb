{
 "cells": [
  {
   "cell_type": "markdown",
   "metadata": {},
   "source": [
    "# Индивидуальное название"
   ]
  },
  {
   "cell_type": "markdown",
   "metadata": {},
   "source": [
    "## Условие задачи"
   ]
  },
  {
   "cell_type": "markdown",
   "metadata": {},
   "source": [
    "Кирилл массой 100 кг падает с высоты 10 м с начальной скоростью, равной нулю. Какова его кинетическая энергия в момент перед ударом в потолок на пару Сагдеева, если потеря энергии за счёт сопротивления воздуха составила 20 Дж? Ускорение свободного падения принять равным 9,81 м/с2."
   ]
  },
  {
   "cell_type": "markdown",
   "metadata": {},
   "source": [
    "### Дано"
   ]
  },
  {
   "cell_type": "markdown",
   "metadata": {},
   "source": [
    "$$\n",
    "m=100\\text{кг};\\\\\n",
    "h=10\\text{м};\\\\\n",
    "v_{0}=0\\text{м/с};\\\\\n",
    "E=20\\text{Дж};\\\\\n",
    "g=9,81\\text{м/с^2};\\\\\n",
    "$$"
   ]
  },
  {
   "cell_type": "markdown",
   "metadata": {},
   "source": [
    "$$\n",
    "Е_{k}-?\n",
    "$$"
   ]
  },
  {
   "cell_type": "markdown",
   "metadata": {},
   "source": [
    "#### Решение"
   ]
  },
  {
   "cell_type": "markdown",
   "metadata": {},
   "source": [
    "\n",
    "Найдем потенциальную энергию $Е_{p}$:\n"
   ]
  },
  {
   "cell_type": "markdown",
   "metadata": {},
   "source": [
    "$$\n",
    "E_{p}=m*g*h\n",
    "$$"
   ]
  },
  {
   "cell_type": "markdown",
   "metadata": {},
   "source": [
    "$$\n",
    "m = 100\n",
    "h = 10\n",
    "g = 9.81\n",
    "Ep = m * g * h\n",
    "print(\"Ep =\",Ep , \"Дж\")\n",
    "$$"
   ]
  },
  {
   "cell_type": "markdown",
   "metadata": {},
   "source": [
    "Полная энергия шарика равна его потенциальной энергии в верхней точке $E_{1}=E_{p}$.\n",
    "Согласно закону сохранения энергии, $E_{1}=E_{к} + ΔE, где E_{k}$ — это кинетическая энергия шарика перед ударом об землю, а $ΔE$ — потеря энергии за счёт сопротивления воздуха. Тогда $E_{k}=E_{1} - E$\n"
   ]
  },
  {
   "cell_type": "markdown",
   "metadata": {},
   "source": [
    "$$\n",
    "E = 20\n",
    "Ek = Ep - E\n",
    "print(\"Ek =\",Ek , \"Дж\")\n",
    "$$"
   ]
  },
  {
   "cell_type": "markdown",
   "metadata": {},
   "source": [
    "#### Ответ:"
   ]
  },
  {
   "cell_type": "markdown",
   "metadata": {},
   "source": [
    "$$\n",
    "E_{k}= 9790,0 Дж\n",
    "$$"
   ]
  },
  {
   "cell_type": "code",
   "execution_count": null,
   "metadata": {},
   "outputs": [],
   "source": []
  }
 ],
 "metadata": {
  "kernelspec": {
   "display_name": "Python 3",
   "language": "python",
   "name": "python3"
  },
  "language_info": {
   "codemirror_mode": {
    "name": "ipython",
    "version": 3
   },
   "file_extension": ".py",
   "mimetype": "text/x-python",
   "name": "python",
   "nbconvert_exporter": "python",
   "pygments_lexer": "ipython3",
   "version": "3.8.3"
  }
 },
 "nbformat": 4,
 "nbformat_minor": 4
}
